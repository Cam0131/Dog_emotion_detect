{
 "cells": [
  {
   "cell_type": "markdown",
   "metadata": {},
   "source": [
    "# googleの画像検索から画像をScrappingするための基本的なコード"
   ]
  },
  {
   "cell_type": "code",
   "execution_count": 1,
   "metadata": {},
   "outputs": [],
   "source": [
    "import bs4\n",
    "import requests\n",
    "import re\n",
    "import urllib.request, urllib.error\n",
    "import os\n",
    "import argparse\n",
    "import sys\n",
    "import json"
   ]
  },
  {
   "cell_type": "markdown",
   "metadata": {},
   "source": [
    "#### 欲しい画像の種類と数とフォルダーを指定"
   ]
  },
  {
   "cell_type": "code",
   "execution_count": 2,
   "metadata": {},
   "outputs": [],
   "source": [
    "search=['dog']\n",
    "num_images=10\n",
    "directry_name='./images'"
   ]
  },
  {
   "cell_type": "markdown",
   "metadata": {},
   "source": [
    "#### 複数のキーワードを'+'でつなげる"
   ]
  },
  {
   "cell_type": "code",
   "execution_count": 3,
   "metadata": {},
   "outputs": [],
   "source": [
    "if len(search) > 2:\n",
    "    query = '+'.join(search)\n",
    "else:\n",
    "    query=search[0]"
   ]
  },
  {
   "cell_type": "markdown",
   "metadata": {},
   "source": [
    "#### 画像をスクレイピングしてきた画像群を置けるようにフォルダーを作成する"
   ]
  },
  {
   "cell_type": "code",
   "execution_count": 12,
   "metadata": {},
   "outputs": [],
   "source": [
    "save_directory=[]\n",
    "for folder_name in search:\n",
    "    save_directory=directry_name+'/'+folder_name+'/'\n",
    "    if not os.path.exists(save_directory):\n",
    "        os.makedirs(save_directory) "
   ]
  },
  {
   "cell_type": "markdown",
   "metadata": {},
   "source": [
    "# スクレーピング"
   ]
  },
  {
   "cell_type": "markdown",
   "metadata": {},
   "source": [
    "#### Google で画像検索した時にでるurl"
   ]
  },
  {
   "cell_type": "code",
   "execution_count": 5,
   "metadata": {},
   "outputs": [],
   "source": [
    "url=\"https://www.google.co.jp/search?q=\"+query+\"&source=lnms&tbm=isch\""
   ]
  },
  {
   "cell_type": "markdown",
   "metadata": {},
   "source": [
    "\n",
    "#### 自分のUser-Agentを確認してそれをheaderに入力\n"
   ]
  },
  {
   "cell_type": "code",
   "execution_count": 6,
   "metadata": {},
   "outputs": [],
   "source": [
    "header={'User-Agent':\"Mozilla/5.0 (Macintosh; Intel Mac OS X 10_14_3) AppleWebKit/537.36 (KHTML, like Gecko) Chrome/72.0.3626.119 Safari/537.36\"}"
   ]
  },
  {
   "cell_type": "markdown",
   "metadata": {},
   "source": [
    "#### HTMLやXMLファイルからデータを取得するライブラリでsoupオブジェクトを取得\n",
    "##### => soupにはHTMLやXMLの色々なデータが入っている。"
   ]
  },
  {
   "cell_type": "code",
   "execution_count": 7,
   "metadata": {},
   "outputs": [],
   "source": [
    "soup=bs4.BeautifulSoup(urllib.request.urlopen(urllib.request.Request(url,headers=header)),'html.parser')"
   ]
  },
  {
   "cell_type": "markdown",
   "metadata": {},
   "source": [
    "#### Actuallimagesに取得した画像のリンクとその画像の型を入れる。"
   ]
  },
  {
   "cell_type": "code",
   "execution_count": 10,
   "metadata": {},
   "outputs": [],
   "source": [
    "ActualImages=[]\n",
    "div_rg_meta=soup.find_all(\"div\",class_=\"rg_meta\")\n",
    "\n",
    "for a in div_rg_meta:\n",
    "    #a.text タグを取り除く　json.loads => JSON文字列を辞書に変換 \n",
    "    #link　画像のリンク　Type　画像の型\n",
    "    link , Type =json.loads(a.text)[\"ou\"]  ,json.loads(a.text)[\"ity\"]\n",
    "    ActualImages.append((link,Type))"
   ]
  },
  {
   "cell_type": "markdown",
   "metadata": {},
   "source": [
    "#### urlリンクから画像を取得し画像を指定のディレクトリにファイルを保存する。"
   ]
  },
  {
   "cell_type": "code",
   "execution_count": 15,
   "metadata": {},
   "outputs": [
    {
     "name": "stdout",
     "output_type": "stream",
     "text": [
      "Downloading image 0 (https://www.guidedogsvictoria.com.au/wp-content/themes/default/static/img/puppy.png), type is png\n",
      "Downloading image 1 (https://www.guidedogs.org/wp-content/uploads/2018/01/Mobile.jpg), type is jpg\n",
      "Downloading image 2 (https://www.akc.org/wp-content/themes/akc/component-library/assets/img/welcome.jpg), type is jpg\n",
      "Downloading image 3 (https://thenypost.files.wordpress.com/2018/10/102318-dogs-color-determine-disesases-life.jpg?quality=90&strip=all&w=618&h=410&crop=1), type is jpg\n",
      "Downloading image 4 (https://nhl.bamcontent.com/images/photos/301406224/1024x576/cut.jpg), type is jpg\n",
      "Downloading image 5 (https://cdn1.medicalnewstoday.com/content/images/articles/322/322868/golden-retriever-puppy.jpg), type is jpg\n",
      "Downloading image 6 (https://upload.wikimedia.org/wikipedia/commons/d/d9/Collage_of_Nine_Dogs.jpg), type is jpg\n",
      "Downloading image 7 (https://cdn.psychologytoday.com/sites/default/files/styles/article-inline-half/public/field_blog_entry_images/2018-02/vicious_dog_0.png?itok=nsghKOHs), type is png\n",
      "Downloading image 8 (http://www.rentcafe.com/dmslivecafe/UploadedImages/e44a0982-d9d2-4e92-b90f-b279eaabfe53.jpg), type is jpg\n",
      "Downloading image 9 (https://thenypost.files.wordpress.com/2018/05/180516-woman-mauled-by-angry-wiener-dogs-feature.jpg?quality=90&strip=all&w=618&h=410&crop=1), type is jpg\n"
     ]
    }
   ],
   "source": [
    "for i , (img_link , Type) in enumerate( ActualImages[0:ｎum_images]):\n",
    "    try:\n",
    "        Type = Type if len(Type) > 0 else 'jpg'\n",
    "        print(\"Downloading image {} ({}), type is {}\".format(i, img_link, Type))\n",
    "        #画像のリンクから、画像を取得する。\n",
    "        raw_img = urllib.request.urlopen(img_link).read()\n",
    "        #取得した画像を開いて保存する。\n",
    "        f = open(os.path.join(save_directory , search[0]+\"_\"+str(i)+\".\"+Type), 'wb')\n",
    "        f.write(raw_img)\n",
    "        f.close()\n",
    "    #loadができなかった場合エラーを吐くようにする。\n",
    "    except Exception as e:\n",
    "        print (\"could not load : \"+img)\n",
    "        print (e)"
   ]
  }
 ],
 "metadata": {
  "kernelspec": {
   "display_name": "mykernel",
   "language": "python",
   "name": "mykernel"
  },
  "language_info": {
   "codemirror_mode": {
    "name": "ipython",
    "version": 3
   },
   "file_extension": ".py",
   "mimetype": "text/x-python",
   "name": "python",
   "nbconvert_exporter": "python",
   "pygments_lexer": "ipython3",
   "version": "3.5.5"
  }
 },
 "nbformat": 4,
 "nbformat_minor": 2
}
