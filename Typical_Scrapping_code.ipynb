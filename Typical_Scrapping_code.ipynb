{
 "cells": [
  {
   "cell_type": "markdown",
   "metadata": {},
   "source": [
    "# googleの画像検索から画像をScrappingするための基本的なコード"
   ]
  },
  {
   "cell_type": "code",
   "execution_count": 1,
   "metadata": {},
   "outputs": [],
   "source": [
    "import bs4\n",
    "import requests\n",
    "import re\n",
    "import urllib.request, urllib.error\n",
    "import os\n",
    "import argparse\n",
    "import sys\n",
    "import json"
   ]
  },
  {
   "cell_type": "markdown",
   "metadata": {},
   "source": [
    "#### 欲しい画像の種類と数と画像を保存するフォルダーを指定"
   ]
  },
  {
   "cell_type": "code",
   "execution_count": 2,
   "metadata": {},
   "outputs": [],
   "source": [
    "search=['dog']\n",
    "num_images=10\n",
    "directry_name='./images'"
   ]
  },
  {
   "cell_type": "markdown",
   "metadata": {},
   "source": [
    "#### 複数のキーワードを'+'でつなげる"
   ]
  },
  {
   "cell_type": "code",
   "execution_count": 3,
   "metadata": {},
   "outputs": [],
   "source": [
    "if len(search) > 2:\n",
    "    query = '+'.join(search)\n",
    "else:\n",
    "    query=search[0]"
   ]
  },
  {
   "cell_type": "markdown",
   "metadata": {},
   "source": [
    "#### スクレイピングしてきた画像群を置けるように指定したフォルダー下にカテゴリー別に保存できるようにフォルダーをカテゴリー名で作成する"
   ]
  },
  {
   "cell_type": "code",
   "execution_count": 12,
   "metadata": {},
   "outputs": [],
   "source": [
    "save_directory=[]\n",
    "for folder_name in search:\n",
    "    save_directory=directry_name+'/'+folder_name+'/'\n",
    "    if not os.path.exists(save_directory):\n",
    "        os.makedirs(save_directory) "
   ]
  },
  {
   "cell_type": "markdown",
   "metadata": {},
   "source": [
    "# スクレーピング"
   ]
  },
  {
   "cell_type": "markdown",
   "metadata": {},
   "source": [
    "#### Google で画像検索した時にでるurl"
   ]
  },
  {
   "cell_type": "code",
   "execution_count": 5,
   "metadata": {},
   "outputs": [],
   "source": [
    "url=\"https://www.google.co.jp/search?q=\"+query+\"&source=lnms&tbm=isch\""
   ]
  },
  {
   "cell_type": "markdown",
   "metadata": {},
   "source": [
    "\n",
    "#### 自分のUser-Agentを確認してそれをheaderに入力\n"
   ]
  },
  {
   "cell_type": "code",
   "execution_count": 6,
   "metadata": {},
   "outputs": [],
   "source": [
    "header={'User-Agent':\"Mozilla/5.0 (Macintosh; Intel Mac OS X 10_14_3) AppleWebKit/537.36 (KHTML, like Gecko) Chrome/72.0.3626.119 Safari/537.36\"}"
   ]
  },
  {
   "cell_type": "markdown",
   "metadata": {},
   "source": [
    "#### HTMLやXMLファイルからデータを取得するライブラリでsoupオブジェクトを取得\n",
    "##### => soupにはHTMLやXMLの色々なデータが入っている。"
   ]
  },
  {
   "cell_type": "code",
   "execution_count": 7,
   "metadata": {},
   "outputs": [],
   "source": [
    "soup=bs4.BeautifulSoup(urllib.request.urlopen(urllib.request.Request(url,headers=header)),'html.parser')"
   ]
  },
  {
   "cell_type": "markdown",
   "metadata": {},
   "source": [
    "#### Actuallimagesに取得した画像のリンクとその画像の型を入れる。"
   ]
  },
  {
   "cell_type": "code",
   "execution_count": 10,
   "metadata": {},
   "outputs": [],
   "source": [
    "ActualImages=[]\n",
    "div_rg_meta=soup.find_all(\"div\",class_=\"rg_meta\")\n",
    "\n",
    "for a in div_rg_meta:\n",
    "    #a.text タグを取り除く　json.loads => JSON文字列を辞書に変換 \n",
    "    #link　画像のリンク　Type　画像の型\n",
    "    link , Type =json.loads(a.text)[\"ou\"]  ,json.loads(a.text)[\"ity\"]\n",
    "    ActualImages.append((link,Type))"
   ]
  },
  {
   "cell_type": "markdown",
   "metadata": {},
   "source": [
    "#### urlリンクから画像を取得し画像を指定のディレクトリにファイルを保存する。"
   ]
  },
  {
   "cell_type": "code",
   "execution_count": null,
   "metadata": {},
   "outputs": [
    {
     "name": "stdout",
     "output_type": "stream",
     "text": [
      "Downloading image 0 (https://www.guidedogsvictoria.com.au/wp-content/themes/default/static/img/puppy.png), type is png\n",
      "Downloading image 1 (https://www.guidedogs.org/wp-content/uploads/2018/01/Mobile.jpg), type is jpg\n"
     ]
    }
   ],
   "source": [
    "for i , (img_link , Type) in enumerate( ActualImages[0:ｎum_images]):\n",
    "    try:\n",
    "        Type = Type if len(Type) > 0 else 'jpg'\n",
    "        print(\"Downloading image {} ({}), type is {}\".format(i, img_link, Type))\n",
    "        #画像のリンクから、画像を取得する。\n",
    "        raw_img = urllib.request.urlopen(img_link).read()\n",
    "        #取得した画像を開いて保存する。\n",
    "        f = open(os.path.join(save_directory , search[0]+\"_\"+str(i)+\".\"+Type), 'wb')\n",
    "        f.write(raw_img)\n",
    "        f.close()\n",
    "    #loadができなかった場合エラーを吐くようにする。\n",
    "    except Exception as e:\n",
    "        print (\"could not load : \"+img)\n",
    "        print (e)"
   ]
  },
  {
   "cell_type": "code",
   "execution_count": null,
   "metadata": {},
   "outputs": [],
   "source": []
  }
 ],
 "metadata": {
  "kernelspec": {
   "display_name": "mykernel",
   "language": "python",
   "name": "mykernel"
  },
  "language_info": {
   "codemirror_mode": {
    "name": "ipython",
    "version": 3
   },
   "file_extension": ".py",
   "mimetype": "text/x-python",
   "name": "python",
   "nbconvert_exporter": "python",
   "pygments_lexer": "ipython3",
   "version": "3.5.5"
  }
 },
 "nbformat": 4,
 "nbformat_minor": 2
}
